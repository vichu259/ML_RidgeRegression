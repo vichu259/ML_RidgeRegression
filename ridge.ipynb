{
 "cells": [
  {
   "cell_type": "code",
   "execution_count": 24,
   "metadata": {},
   "outputs": [],
   "source": [
    "import numpy as np\n",
    "import os"
   ]
  },
  {
   "cell_type": "code",
   "execution_count": 25,
   "metadata": {},
   "outputs": [],
   "source": [
    "def load_data():\n",
    "    \n",
    "    def load_csv(filename):\n",
    "        raw_data = open(filename, 'rt')\n",
    "        data = np.loadtxt(raw_data, delimiter=\",\")\n",
    "        return data\n",
    "\n",
    "    pwd = os.getcwd() + '/dataset'\n",
    "    train_data_path   = pwd + \"/trainData.csv\"\n",
    "    train_labels_path = pwd + \"/trainLabels.csv\"\n",
    "    val_data_path     = pwd + \"/valData.csv\"\n",
    "    val_labels_path   = pwd + \"/valLabels.csv\"\n",
    "    \n",
    "    trainX = load_csv(train_data_path)\n",
    "    trainY = load_csv(train_labels_path)\n",
    "    valX   = load_csv(val_data_path)\n",
    "    valY   = load_csv(val_labels_path)\n",
    "    \n",
    "    return trainX, trainY, valX, valY"
   ]
  },
  {
   "cell_type": "code",
   "execution_count": 60,
   "metadata": {},
   "outputs": [],
   "source": [
    "def preprocess(X, Y):\n",
    "    X = X[:, 1:].T  #removing 1st column and then transposing\n",
    "    X = np.vstack((X, np.ones((1, X.shape[1])))) #adding one at the end of each datapoint\n",
    "    Y = Y[:, 1:]\n",
    "    print(X.shape, Y.shape)\n",
    "    return X,Y"
   ]
  },
  {
   "cell_type": "code",
   "execution_count": 78,
   "metadata": {},
   "outputs": [],
   "source": [
    "def train(X, Y, l):\n",
    "    n_features = X.shape[0]\n",
    "    I = np.identity(n_features)\n",
    "    I[n_features-1][n_features-1]=0\n",
    "    C = np.matmul(X, X.T) + l*I\n",
    "    Ci = np.linalg.pinv(C)\n",
    "    w = np.matmul(Ci, np.matmul(X, Y))\n",
    "    \n",
    "    eff_error = 0\n",
    "    for i in range(X.shape[1]):\n",
    "        xi = X[:, i]\n",
    "        a = np.matmul(w.T, xi) - Y[i];\n",
    "        b = 1-np.matmul(xi.T, np.matmul(Ci, xi));\n",
    "        er = a/b;\n",
    "        eff_error = eff_error + er**2;\n",
    "    loocv_err = (eff_error/X.shape[1])\n",
    "    \n",
    "    return w, loocv_err"
   ]
  },
  {
   "cell_type": "code",
   "execution_count": 62,
   "metadata": {},
   "outputs": [],
   "source": [
    "train_raw_X, train_raw_Y, val_raw_X, val_raw_Y = load_data()"
   ]
  },
  {
   "cell_type": "code",
   "execution_count": 63,
   "metadata": {},
   "outputs": [
    {
     "name": "stdout",
     "output_type": "stream",
     "text": [
      "(3001, 5000) (5000, 1)\n",
      "(3001, 5000) (5000, 1)\n"
     ]
    }
   ],
   "source": [
    "train_X, train_Y = preprocess(train_raw_X, train_raw_Y)\n",
    "val_X, val_Y = preprocess(val_raw_X, val_raw_Y)"
   ]
  },
  {
   "cell_type": "code",
   "execution_count": 80,
   "metadata": {},
   "outputs": [
    {
     "name": "stdout",
     "output_type": "stream",
     "text": [
      "With lambda:  0.001 rmse_train:  1.1111365773926458 rmse_val:  2.76489507731023 loocv_err:  [7.60912046]\n",
      "With lambda:  0.01 rmse_train:  1.1205188247625513 rmse_val:  2.5791868257079433 loocv_err:  [6.65693418]\n",
      "With lambda:  0.1 rmse_train:  1.223811965696012 rmse_val:  2.1574812686460647 loocv_err:  [4.76158877]\n",
      "With lambda:  1 rmse_train:  1.5780360753182296 rmse_val:  1.996771511369132 loocv_err:  [4.037986]\n",
      "With lambda:  10 rmse_train:  2.1899533957516115 rmse_val:  2.3477055139162477 loocv_err:  [5.38302719]\n",
      "With lambda:  100 rmse_train:  2.970941965610813 rmse_val:  3.0171052386646826 loocv_err:  [8.97944806]\n",
      "With lambda:  1000 rmse_train:  3.3316125921530393 rmse_val:  3.345415090847553 loocv_err:  [11.12449278]\n"
     ]
    }
   ],
   "source": [
    "lambdax = [0.001, 0.01, 0.1, 1, 10, 100, 1000]\n",
    "min_lambda = None\n",
    "min_err = np.inf\n",
    "for l in lambdax:\n",
    "    w,loocv_err = train(train_X, train_Y, l)\n",
    "    rmse_train = np.sqrt(np.average(np.square(train_Y-np.matmul(train_X.T,w))))\n",
    "    rmse_val = np.sqrt(np.average(np.square(val_Y-np.matmul(val_X.T,w))))\n",
    "    print(\"With lambda: \", l, \"rmse_train: \", rmse_train, \"rmse_val: \", rmse_val, \"loocv_err: \", loocv_err)\n",
    "    if loocv_err < min_err:\n",
    "        min_lambda = l\n",
    "        min_err = loocv_err"
   ]
  },
  {
   "cell_type": "code",
   "execution_count": 81,
   "metadata": {},
   "outputs": [
    {
     "name": "stdout",
     "output_type": "stream",
     "text": [
      "Best model is with lambda:  1 with loocv error:  [4.037986]\n"
     ]
    }
   ],
   "source": [
    "print(\"Best model is with lambda: \", min_lambda, \"with loocv error: \", min_err)"
   ]
  },
  {
   "cell_type": "code",
   "execution_count": null,
   "metadata": {},
   "outputs": [],
   "source": []
  }
 ],
 "metadata": {
  "kernelspec": {
   "display_name": "Python 3",
   "language": "python",
   "name": "python3"
  },
  "language_info": {
   "codemirror_mode": {
    "name": "ipython",
    "version": 3
   },
   "file_extension": ".py",
   "mimetype": "text/x-python",
   "name": "python",
   "nbconvert_exporter": "python",
   "pygments_lexer": "ipython3",
   "version": "3.7.4"
  }
 },
 "nbformat": 4,
 "nbformat_minor": 4
}
